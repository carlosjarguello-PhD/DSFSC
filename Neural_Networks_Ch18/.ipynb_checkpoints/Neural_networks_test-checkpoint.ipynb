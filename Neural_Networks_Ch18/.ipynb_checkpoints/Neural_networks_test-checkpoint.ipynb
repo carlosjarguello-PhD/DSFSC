{
 "cells": [
  {
   "cell_type": "code",
   "execution_count": 1,
   "metadata": {
    "collapsed": true
   },
   "outputs": [],
   "source": [
    "from xor import feed_forward\n",
    "from captcha_example import predict\n",
    "from captcha_example import inputs, network"
   ]
  },
  {
   "cell_type": "code",
   "execution_count": 31,
   "metadata": {
    "collapsed": false
   },
   "outputs": [
    {
     "data": {
      "image/png": "[encoded data removed]",
      "text/plain": [
       "<matplotlib.figure.Figure at 0x112eca6d0>"
      ]
     },
     "metadata": {},
     "output_type": "display_data"
    }
   ],
   "source": [
    "#training set\n",
    "fig, axes = plt.subplots(1,10, figsize=(20,20))\n",
    "for i,ax in enumerate(axes.flat):\n",
    "    weights = inputs[i]\n",
    "    grid = [weights[row:(row+5)] for row in range(0,25,5)]\n",
    "    im = ax.imshow(grid, interpolation = 'none', cmap=plt.cm.Blues)\n",
    "    ax.set_title('Number ' + str(i))\n",
    "fig.colorbar(im, ax=axes.ravel().tolist(), shrink=0.1)\n",
    "plt.show()    "
   ]
  },
  {
   "cell_type": "code",
   "execution_count": 33,
   "metadata": {
    "collapsed": false
   },
   "outputs": [
    {
     "data": {
      "image/png": "[encoded data removed]",
      "text/plain": [
       "<matplotlib.figure.Figure at 0x111a992d0>"
      ]
     },
     "metadata": {},
     "output_type": "display_data"
    }
   ],
   "source": [
    "#Neuron weights\n",
    "import matplotlib.pyplot as plt\n",
    "%matplotlib inline\n",
    "\n",
    "fig, axes = plt.subplots(1,5, figsize=(20,20))\n",
    "for i,ax in enumerate(axes.flat):\n",
    "    weights = network[0][i]\n",
    "    grid = [weights[row:(row+5)] for row in range(0,25,5)]\n",
    "    im = ax.imshow(grid, interpolation = 'none', cmap=plt.cm.Blues)\n",
    "    ax.set_title('Neuron ' + str(i+1) + ' weights')\n",
    "    ax.set_xlabel('bias = ' + str(weights[-1]))\n",
    "fig.colorbar(im, ax=axes.ravel().tolist(), shrink=0.2)\n",
    "plt.show()    "
   ]
  },
  {
   "cell_type": "code",
   "execution_count": 3,
   "metadata": {
    "collapsed": true
   },
   "outputs": [],
   "source": [
    "my_three = [0,1,1,1,0,\n",
    "            0,0,0,1,1,\n",
    "            0,0,1,1,0,\n",
    "            0,0,0,1,1,\n",
    "            0,1,1,1,0]"
   ]
  },
  {
   "cell_type": "code",
   "execution_count": 4,
   "metadata": {
    "collapsed": false
   },
   "outputs": [],
   "source": [
    "hidden_outputs, outputs = feed_forward(network, my_three)"
   ]
  },
  {
   "cell_type": "code",
   "execution_count": 5,
   "metadata": {
    "collapsed": false
   },
   "outputs": [
    {
     "name": "stdout",
     "output_type": "stream",
     "text": [
      "0.986007485856\n",
      "0.993184448474\n",
      "0.982591316795\n",
      "0.995001810542\n",
      "0.939147137717\n"
     ]
    }
   ],
   "source": [
    "for x in hidden_outputs:\n",
    "    print x"
   ]
  },
  {
   "cell_type": "code",
   "execution_count": 6,
   "metadata": {
    "collapsed": false
   },
   "outputs": [
    {
     "name": "stdout",
     "output_type": "stream",
     "text": [
      "-5.7770826496\n",
      "3.30675871931\n",
      "-19.9534994879\n",
      "31.8169312512\n",
      "0.830333161674\n",
      "-20.992644635\n"
     ]
    }
   ],
   "source": [
    "for x in network[1][3]:\n",
    "    print x"
   ]
  },
  {
   "cell_type": "code",
   "execution_count": 7,
   "metadata": {
    "collapsed": false
   },
   "outputs": [
    {
     "data": {
      "text/plain": [
       "[0.010345275375929663,\n",
       " 0.012803245195309954,\n",
       " 0.0082439037088167244,\n",
       " 0.030016356205718797,\n",
       " 0.011852969322093232,\n",
       " 0.040751877670842318,\n",
       " 0.0077872561127705908,\n",
       " 0.0089509529272047139,\n",
       " 0.0077679613457145025,\n",
       " 0.92910875302576312]"
      ]
     },
     "execution_count": 7,
     "metadata": {},
     "output_type": "execute_result"
    }
   ],
   "source": [
    "predict(my_three)"
   ]
  },
  {
   "cell_type": "code",
   "execution_count": 8,
   "metadata": {
    "collapsed": false
   },
   "outputs": [
    {
     "data": {
      "text/plain": [
       "[1, 1, 1, 1, 1, 0, 0, 0, 0, 1, 1, 1, 1, 1, 1, 0, 0, 0, 0, 1, 1, 1, 1, 1, 1]"
      ]
     },
     "execution_count": 8,
     "metadata": {},
     "output_type": "execute_result"
    }
   ],
   "source": [
    "inputs[3]"
   ]
  },
  {
   "cell_type": "code",
   "execution_count": 9,
   "metadata": {
    "collapsed": false
   },
   "outputs": [
    {
     "data": {
      "text/plain": [
       "[0, 1, 1, 1, 0, 0, 0, 0, 1, 1, 0, 0, 1, 1, 0, 0, 0, 0, 1, 1, 0, 1, 1, 1, 0]"
      ]
     },
     "execution_count": 9,
     "metadata": {},
     "output_type": "execute_result"
    }
   ],
   "source": [
    "my_three"
   ]
  },
  {
   "cell_type": "code",
   "execution_count": 34,
   "metadata": {
    "collapsed": false
   },
   "outputs": [
    {
     "data": {
      "text/plain": [
       "[0.0098132102942924959,\n",
       " 0.012727827357685184,\n",
       " 0.008199028206614889,\n",
       " 0.029271018726642117,\n",
       " 0.012249959975188185,\n",
       " 0.042986955557147433,\n",
       " 0.0078726527239756927,\n",
       " 0.0086535346114694489,\n",
       " 0.0078354681090276324,\n",
       " 0.9304232003854056]"
      ]
     },
     "execution_count": 34,
     "metadata": {},
     "output_type": "execute_result"
    }
   ],
   "source": [
    "predict(inputs[9])"
   ]
  },
  {
   "cell_type": "code",
   "execution_count": null,
   "metadata": {
    "collapsed": true
   },
   "outputs": [],
   "source": []
  }
 ],
 "metadata": {
  "anaconda-cloud": {},
  "kernelspec": {
   "display_name": "Python [insight_project]",
   "language": "python",
   "name": "Python [insight_project]"
  },
  "language_info": {
   "codemirror_mode": {
    "name": "ipython",
    "version": 2
   },
   "file_extension": ".py",
   "mimetype": "text/x-python",
   "name": "python",
   "nbconvert_exporter": "python",
   "pygments_lexer": "ipython2",
   "version": "2.7.12"
  }
 },
 "nbformat": 4,
 "nbformat_minor": 0
}
