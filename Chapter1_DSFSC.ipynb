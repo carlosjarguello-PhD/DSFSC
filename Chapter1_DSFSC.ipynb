{
 "cells": [
  {
   "cell_type": "code",
   "execution_count": 7,
   "metadata": {
    "collapsed": false
   },
   "outputs": [],
   "source": [
    "users = [{'id' : 0, \"name\" : \"p1\"},\n",
    "{'id' : 1, \"name\" : \"p2\"},\n",
    "{'id' : 2, \"name\" : \"p3\"},\n",
    "{'id' : 3, \"name\" : \"p4\"},\n",
    "{'id' : 4, \"name\" : \"p5\"},\n",
    "{'id' : 5, \"name\" : \"p6\"},\n",
    "{'id' : 6, \"name\" : \"p7\"},\n",
    "{'id' : 7, \"name\" : \"p8\"},\n",
    "{'id' : 8, \"name\" : \"p9\"},\n",
    "{'id' : 9, \"name\" : \"p10\"}]"
   ]
  },
  {
   "cell_type": "code",
   "execution_count": 8,
   "metadata": {
    "collapsed": false
   },
   "outputs": [],
   "source": [
    "friendships = [(0,1), (0,2), (1,2), (1,3), (2,3), (3,4), (4,5), (5,6), (5,7), (6,8), (7,8), (8,9)]"
   ]
  },
  {
   "cell_type": "code",
   "execution_count": 9,
   "metadata": {
    "collapsed": true
   },
   "outputs": [],
   "source": [
    "for user in users: user[\"friends\"] = []"
   ]
  },
  {
   "cell_type": "code",
   "execution_count": 10,
   "metadata": {
    "collapsed": false
   },
   "outputs": [],
   "source": [
    "for i, j in friendships:\n",
    "    users[i][\"friends\"].append(users[j]);\n",
    "    users[j][\"friends\"].append(users[i]);"
   ]
  },
  {
   "cell_type": "code",
   "execution_count": 11,
   "metadata": {
    "collapsed": false
   },
   "outputs": [],
   "source": [
    "def number_of_friends(user):\n",
    "    return len(user[\"friends\"])"
   ]
  },
  {
   "cell_type": "code",
   "execution_count": 12,
   "metadata": {
    "collapsed": false
   },
   "outputs": [
    {
     "data": {
      "text/plain": [
       "2.4"
      ]
     },
     "execution_count": 12,
     "metadata": {},
     "output_type": "execute_result"
    }
   ],
   "source": [
    "total_connections = sum(number_of_friends(user) for user in users)\n",
    "from __future__ import division\n",
    "num_users = len(users)\n",
    "avg = total_connections/num_users\n",
    "avg"
   ]
  },
  {
   "cell_type": "code",
   "execution_count": 13,
   "metadata": {
    "collapsed": false
   },
   "outputs": [],
   "source": [
    "num_friends = [(user[\"name\"], number_of_friends(user)) for user in users]"
   ]
  },
  {
   "cell_type": "code",
   "execution_count": 14,
   "metadata": {
    "collapsed": false
   },
   "outputs": [
    {
     "data": {
      "text/plain": [
       "[('p2', 3),\n",
       " ('p3', 3),\n",
       " ('p4', 3),\n",
       " ('p6', 3),\n",
       " ('p9', 3),\n",
       " ('p1', 2),\n",
       " ('p5', 2),\n",
       " ('p7', 2),\n",
       " ('p8', 2),\n",
       " ('p10', 1)]"
      ]
     },
     "execution_count": 14,
     "metadata": {},
     "output_type": "execute_result"
    }
   ],
   "source": [
    "sorted(num_friends, key = lambda (user_name, num_friends): num_friends, reverse = True)"
   ]
  },
  {
   "cell_type": "code",
   "execution_count": 15,
   "metadata": {
    "collapsed": false
   },
   "outputs": [],
   "source": [
    "def foaf_id(user):\n",
    "    return [foaf[\"id\"] for friend in user[\"friends\"] for foaf in friend[\"friends\"]]"
   ]
  },
  {
   "cell_type": "code",
   "execution_count": 16,
   "metadata": {
    "collapsed": true
   },
   "outputs": [],
   "source": [
    "def not_the_same(user, other_user):\n",
    "    return user[\"id\"] != other_user[\"id\"]"
   ]
  },
  {
   "cell_type": "code",
   "execution_count": 17,
   "metadata": {
    "collapsed": true
   },
   "outputs": [],
   "source": [
    "def not_friends(user, other_user):\n",
    "    return all(not_the_same(friend, other_user) for friend in user[\"friends\"]) "
   ]
  },
  {
   "cell_type": "code",
   "execution_count": 18,
   "metadata": {
    "collapsed": false
   },
   "outputs": [],
   "source": [
    "from collections import Counter\n",
    "def foaf_id_2(user):\n",
    "    return Counter(foaf[\"id\"] \n",
    "           for friend in user[\"friends\"] \n",
    "           for foaf in friend[\"friends\"]\n",
    "           if not_the_same(user, foaf) and \n",
    "           not_friends(user, foaf))"
   ]
  },
  {
   "cell_type": "code",
   "execution_count": 21,
   "metadata": {
    "collapsed": false
   },
   "outputs": [
    {
     "data": {
      "text/plain": [
       "Counter({0: 2, 5: 1})"
      ]
     },
     "execution_count": 21,
     "metadata": {},
     "output_type": "execute_result"
    }
   ],
   "source": [
    "foaf_id_2(users[3])"
   ]
  },
  {
   "cell_type": "code",
   "execution_count": null,
   "metadata": {
    "collapsed": true
   },
   "outputs": [],
   "source": []
  }
 ],
 "metadata": {
  "kernelspec": {
   "display_name": "Python 2",
   "language": "python",
   "name": "python2"
  },
  "language_info": {
   "codemirror_mode": {
    "name": "ipython",
    "version": 2
   },
   "file_extension": ".py",
   "mimetype": "text/x-python",
   "name": "python",
   "nbconvert_exporter": "python",
   "pygments_lexer": "ipython2",
   "version": "2.7.10"
  }
 },
 "nbformat": 4,
 "nbformat_minor": 0
}
